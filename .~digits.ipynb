{
 "cells": [
  {
   "cell_type": "code",
   "execution_count": 20,
   "metadata": {},
   "outputs": [],
   "source": [
    "import pandas as pd\n",
    "import numpy as np\n",
    "import matplotlib.pyplot as plt\n",
    "from sklearn.linear_model import LogisticRegression\n",
    "import random"
   ]
  },
  {
   "cell_type": "code",
   "execution_count": null,
   "metadata": {},
   "outputs": [],
   "source": [
    "train = np.array(pd.read_csv(\"./data/mnist_train.csv\"))\n",
    "test =  np.array(pd.read_csv(\"./data/mnist_test.csv\"))"
   ]
  },
  {
   "cell_type": "code",
   "execution_count": null,
   "metadata": {},
   "outputs": [],
   "source": [
    "train.shape"
   ]
  },
  {
   "cell_type": "code",
   "execution_count": null,
   "metadata": {},
   "outputs": [],
   "source": [
    "\n",
    "x_train , y_train = train[:,1:] , train[:,0]\n",
    "x_test , y_test = test[:,1:] , test[:,0]"
   ]
  },
  {
   "cell_type": "code",
   "execution_count": null,
   "metadata": {},
   "outputs": [],
   "source": [
    " \n",
    "print(f\"training images is: {len(y_train)}\\nshape of image is:\\\n",
    "{x_train.shape[1:]}\\nnum of test images is {len(y_test)}\")"
   ]
  },
  {
   "cell_type": "code",
   "execution_count": null,
   "metadata": {},
   "outputs": [],
   "source": [
    "def plot_figures(x,y,nrows=3,ncols=4):\n",
    "    indexs = random.sample (range(0,len(y)),nrows*ncols)\n",
    "    x= x.reshape (x.shape[0],28,28)\n",
    "    fig, axeslist = plt.subplots(ncols=ncols,nrows=nrows,figsize=(10,10)) \n",
    "    for ind,i in enumerate(indexs): \n",
    "        axeslist.ravel()[ind].imshow(x[i], cmap=plt.gray()) \n",
    "        axeslist.ravel()[ind].set_axis_off() "
   ]
  },
  {
   "cell_type": "code",
   "execution_count": null,
   "metadata": {},
   "outputs": [],
   "source": [
    "plot_figures(x_train,y_train) "
   ]
  },
  {
   "cell_type": "code",
   "execution_count": null,
   "metadata": {},
   "outputs": [],
   "source": [
    "logr= LogisticRegression(multi_class=\"multinomial\",solver=\"lbfgs\",max_iter=2000)\n",
    "logr.fit(x_train, y_train)\n",
    "print('Accuracy  on training set: {:.2f}'\n",
    "     .format(logr.score(x_train, y_train)))\n",
    "\n",
    "print('Accuracy  on test set: {:.2f}'\n",
    "     .format(logr.score(x_test, y_test)))"
   ]
  },
  {
   "cell_type": "code",
   "execution_count": null,
   "metadata": {},
   "outputs": [],
   "source": []
  }
 ],
 "metadata": {
  "kernelspec": {
   "display_name": "Python 3",
   "language": "python",
   "name": "python3"
  },
  "language_info": {
   "codemirror_mode": {
    "name": "ipython",
    "version": 3
   },
   "file_extension": ".py",
   "mimetype": "text/x-python",
   "name": "python",
   "nbconvert_exporter": "python",
   "pygments_lexer": "ipython3",
   "version": "3.6.5"
  }
 },
 "nbformat": 4,
 "nbformat_minor": 2
}
